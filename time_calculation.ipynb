{
 "cells": [
  {
   "cell_type": "code",
   "execution_count": 1,
   "metadata": {},
   "outputs": [],
   "source": [
    "import json\n",
    "import time\n",
    "from bs4 import BeautifulSoup as bs\n",
    "import requests"
   ]
  },
  {
   "cell_type": "code",
   "execution_count": 2,
   "metadata": {},
   "outputs": [],
   "source": [
    "def save_data(title, data):\n",
    "    with open(title, 'w', encoding='utf-8') as f:\n",
    "        json.dump(data, f, ensure_ascii=False, indent=2)\n",
    "        \n",
    "def load_data(title):\n",
    "    with open(title, encoding=\"utf-8\") as f:\n",
    "        return json.load(f)"
   ]
  },
  {
   "cell_type": "markdown",
   "metadata": {},
   "source": [
    "# Movies\n",
    "Using api to get the duration of each movie in the list below and save it to a Json then calculate total time wasted watching movies"
   ]
  },
  {
   "cell_type": "code",
   "execution_count": 3,
   "metadata": {},
   "outputs": [],
   "source": [
    "all_movies_raw=\"\"\"insert movies here separated by comma\"\"\""
   ]
  },
  {
   "cell_type": "code",
   "execution_count": 4,
   "metadata": {},
   "outputs": [],
   "source": [
    "all_movies = all_movies_raw.split(',')\n",
    "all_movies = [x.strip().replace('\\n',\"\") for x in all_movies]\n",
    "# print(all_movies)"
   ]
  },
  {
   "cell_type": "code",
   "execution_count": 5,
   "metadata": {},
   "outputs": [],
   "source": [
    "def get_movie_minutes_runtime(movie_name):\n",
    "    api_key='personal-api-key-here'\n",
    "    base_url=f'http://www.omdbapi.com/?apikey={api_key}&t='\n",
    "    movie_url=movie_name.replace(' ','+')\n",
    "    full_path=base_url+movie_url\n",
    "    r = requests.get(full_path)\n",
    "    content= json.loads(r.text)\n",
    "    mins=content['Runtime'].split(' ')[0]\n",
    "    return mins\n"
   ]
  },
  {
   "cell_type": "code",
   "execution_count": 6,
   "metadata": {},
   "outputs": [
    {
     "name": "stdout",
     "output_type": "stream",
     "text": [
      "insert movies here separated by comma 'Runtime'\n"
     ]
    }
   ],
   "source": [
    "movie_minutes={}\n",
    "for index,movie_name in enumerate(all_movies):\n",
    "    # if(index == 10):\n",
    "    #     break\n",
    "    try:\n",
    "        minutes=get_movie_minutes_runtime(movie_name)\n",
    "        movie_minutes[movie_name]= minutes\n",
    "    except Exception as e:\n",
    "        print(movie_name,e)"
   ]
  },
  {
   "cell_type": "code",
   "execution_count": 7,
   "metadata": {},
   "outputs": [],
   "source": [
    "def get_invalid_value_dict(dict):\n",
    "    for key, value in dict.items():\n",
    "        if( (not str(value).isdigit()) or int(value)<40):\n",
    "            print(\"Invalid\",key)\n",
    "            \n",
    "get_invalid_value_dict(movie_minutes)"
   ]
  },
  {
   "cell_type": "code",
   "execution_count": 8,
   "metadata": {},
   "outputs": [
    {
     "data": {
      "text/plain": [
       "0"
      ]
     },
     "execution_count": 8,
     "metadata": {},
     "output_type": "execute_result"
    }
   ],
   "source": [
    "time_wasted_seen_minutes=0\n",
    "for key,value in movie_minutes.items():\n",
    "    try:\n",
    "        time_wasted_seen_minutes+=int(value)\n",
    "    except Exception as e:\n",
    "        print(e)\n",
    "time_wasted_seen_minutes"
   ]
  },
  {
   "cell_type": "code",
   "execution_count": 9,
   "metadata": {},
   "outputs": [
    {
     "name": "stdout",
     "output_type": "stream",
     "text": [
      "0\n",
      "\n"
     ]
    }
   ],
   "source": [
    "save_data(\"movie_data_watchtime_minutes.json\", movie_minutes)\n",
    "total_hours_wasted_seen=(time_wasted_seen_minutes)//60\n",
    "print(total_hours_wasted_seen)\n",
    "\n",
    "movies_list_txt=[movie.lower() for movie in movie_minutes]\n",
    "movies_list_txt=sorted(movies_list_txt)\n",
    "print(*movies_list_txt, sep=', ')"
   ]
  },
  {
   "cell_type": "markdown",
   "metadata": {},
   "source": [
    "# TV shows\n",
    "\n",
    "Using a web scraper on the website below to get the duration of each TV and transform it into hours"
   ]
  },
  {
   "cell_type": "code",
   "execution_count": 10,
   "metadata": {},
   "outputs": [
    {
     "data": {
      "text/plain": [
       "['tv shows here separated by comma']"
      ]
     },
     "execution_count": 10,
     "metadata": {},
     "output_type": "execute_result"
    }
   ],
   "source": [
    "all_shows_raw=\"\"\"tv shows here separated by comma\"\"\"\n",
    "all_shows=all_shows_raw.split(',')\n",
    "all_shows=[x.strip() for x in all_shows]\n",
    "all_shows"
   ]
  },
  {
   "cell_type": "code",
   "execution_count": 11,
   "metadata": {},
   "outputs": [
    {
     "name": "stdout",
     "output_type": "stream",
     "text": [
      "[' 2 days ', ' 22 hours ', ' 14 minutes ']\n",
      "2880\n"
     ]
    },
    {
     "data": {
      "text/plain": [
       "4214"
      ]
     },
     "execution_count": 11,
     "metadata": {},
     "output_type": "execute_result"
    }
   ],
   "source": [
    "r=requests.get('https://www.bingeclock.com/s/game-of-thrones/')\n",
    "# print(r.text)\n",
    "soup = bs(r.content)\n",
    "info_divs= soup.find_all(\"div\", {\"class\": \"date_counter_cont\"})\n",
    "\n",
    "def get_content_value_list(info_divs):\n",
    "    list_value = []\n",
    "    for row in info_divs:\n",
    "        text=row.get_text()\n",
    "        list_value.append(text)\n",
    "    return list_value\n",
    "\n",
    "info_divs_content = get_content_value_list(info_divs)\n",
    "print(info_divs_content)\n",
    "\n",
    "def time_element_to_minute(element):\n",
    "    elements=element.strip().split(' ')\n",
    "    # print(elements)\n",
    "    if(elements[1]=='minutes'):\n",
    "        return int(elements[0])\n",
    "    elif(elements[1]=='hours' or elements[1]=='hour'):\n",
    "        return int(elements[0])*60\n",
    "    elif(elements[1]=='days' or elements[1]=='day'):\n",
    "        return int(elements[0])*24*60\n",
    "    else:\n",
    "        raise ValueError(\"Invalid format for time element(doesnt match minutes,hour,days/day)\")\n",
    "\n",
    "print(time_element_to_minute(info_divs_content[0]))\n",
    "\n",
    "def get_minutes_from_date_divs(info_divs):\n",
    "    info_divs_content = get_content_value_list(info_divs)\n",
    "    total_minutes=0\n",
    "    for element in info_divs_content:\n",
    "        total_minutes+=time_element_to_minute(element)\n",
    "    \n",
    "    return total_minutes\n",
    "\n",
    "get_minutes_from_date_divs(info_divs)\n",
    "   "
   ]
  },
  {
   "cell_type": "code",
   "execution_count": 12,
   "metadata": {},
   "outputs": [
    {
     "data": {
      "text/plain": [
       "4214"
      ]
     },
     "execution_count": 12,
     "metadata": {},
     "output_type": "execute_result"
    }
   ],
   "source": [
    "def get_time_spent_minutes(url):\n",
    "    r=requests.get(url)\n",
    "    soup=bs(r.content)\n",
    "    info_divs= soup.find_all(\"div\", {\"class\": \"date_counter_cont\"})\n",
    "    return get_minutes_from_date_divs(info_divs)\n",
    "    \n",
    "get_time_spent_minutes('https://www.bingeclock.com/s/game-of-thrones/')"
   ]
  },
  {
   "cell_type": "code",
   "execution_count": 13,
   "metadata": {},
   "outputs": [
    {
     "data": {
      "text/plain": [
       "{'tv shows here separated by comma': 0}"
      ]
     },
     "execution_count": 13,
     "metadata": {},
     "output_type": "execute_result"
    }
   ],
   "source": [
    "base_url = 'https://www.bingeclock.com/s/'\n",
    "show_times={}\n",
    "for index,show in enumerate(all_shows):\n",
    "    # if index == 3:\n",
    "    #     break\n",
    "    show_url =show.replace(' ','-')\n",
    "    full_url =base_url + show_url\n",
    "    \n",
    "    try:\n",
    "        show_times[show] =get_time_spent_minutes(full_url)\n",
    "    \n",
    "    except Exception as e:\n",
    "        print(show,e)\n",
    "    time.sleep(1)\n",
    "    # print(full_url)\n",
    "    \n",
    "show_times"
   ]
  },
  {
   "cell_type": "code",
   "execution_count": 14,
   "metadata": {},
   "outputs": [
    {
     "data": {
      "text/plain": [
       "{'tv shows here separated by comma': 0}"
      ]
     },
     "execution_count": 14,
     "metadata": {},
     "output_type": "execute_result"
    }
   ],
   "source": [
    "show_times_hours={}\n",
    "for k,v in show_times.items():\n",
    "    show_times_hours[k] =v//60\n",
    "    \n",
    "save_data(\"show_watchtime_hours.json\",show_times_hours)\n",
    "show_times_hours"
   ]
  },
  {
   "cell_type": "code",
   "execution_count": 15,
   "metadata": {},
   "outputs": [
    {
     "name": "stdout",
     "output_type": "stream",
     "text": [
      "0\n",
      "tv shows here separated by comma\n"
     ]
    }
   ],
   "source": [
    "total_hours_wasted=0\n",
    "for k,v in show_times_hours.items():\n",
    "    total_hours_wasted+=v\n",
    "print(total_hours_wasted)\n",
    "\n",
    "tv_show_list=[x.strip().lower() for x in show_times_hours]\n",
    "tv_show_list=sorted(tv_show_list)\n",
    "print(*tv_show_list,sep=', ')"
   ]
  },
  {
   "cell_type": "markdown",
   "metadata": {},
   "source": [
    "# Anime\n",
    "\n",
    "Usin Jikan's API to extract anime data"
   ]
  },
  {
   "cell_type": "code",
   "execution_count": 16,
   "metadata": {},
   "outputs": [],
   "source": [
    "all_animes_raw=\"\"\" all animes here separated by commas\"\"\""
   ]
  },
  {
   "cell_type": "code",
   "execution_count": 17,
   "metadata": {},
   "outputs": [
    {
     "data": {
      "text/plain": [
       "['all animes here separated by commas']"
      ]
     },
     "execution_count": 17,
     "metadata": {},
     "output_type": "execute_result"
    }
   ],
   "source": [
    "all_animes = all_animes_raw.split(',')\n",
    "all_animes = [x.strip().replace('\\n',\"\") for x in all_animes]\n",
    "all_animes"
   ]
  },
  {
   "cell_type": "code",
   "execution_count": 18,
   "metadata": {},
   "outputs": [
    {
     "data": {
      "text/plain": [
       "('Owari no Seraph', 12)"
      ]
     },
     "execution_count": 18,
     "metadata": {},
     "output_type": "execute_result"
    }
   ],
   "source": [
    "def get_anime_episodes(anime_name):\n",
    "    base_url=\"https://api.jikan.moe/v3/search/anime?q=\"\n",
    "    full_path=base_url+anime_name\n",
    "    r=requests.get(full_path)\n",
    "    content=json.loads(r.text)\n",
    "    first_anime=content['results'][0]\n",
    "    if first_anime['type']=='Movie':\n",
    "        return (first_anime['title'],4)#assume movie anime is 4 episodes long\n",
    "    # return first_anime\n",
    "    return (first_anime['title'],first_anime['episodes'])\n",
    "\n",
    "get_anime_episodes(\"Owari no Seraph\")"
   ]
  },
  {
   "cell_type": "code",
   "execution_count": 19,
   "metadata": {},
   "outputs": [],
   "source": [
    "anime_episodes={}\n",
    "for index,anime_name in enumerate(all_animes):\n",
    "    # if(index == 10):\n",
    "    #     break\n",
    "    try:\n",
    "        name,episodes=get_anime_episodes(anime_name)\n",
    "        if name in anime_episodes:\n",
    "            raise Exception(f\"Anime {name} already exists in dictionary\")\n",
    "        anime_episodes[name] = episodes\n",
    "    except Exception as e:\n",
    "        print(anime_name,e)\n",
    "        \n",
    "    time.sleep(0.4)"
   ]
  },
  {
   "cell_type": "code",
   "execution_count": 20,
   "metadata": {},
   "outputs": [
    {
     "data": {
      "text/plain": [
       "12"
      ]
     },
     "execution_count": 20,
     "metadata": {},
     "output_type": "execute_result"
    }
   ],
   "source": [
    "AVERAGE_ANIME_EPISODE_MINUTES=20\n",
    "total_episodes_seen=0\n",
    "for key,value in anime_episodes.items():\n",
    "    try:\n",
    "        total_episodes_seen+=int(value)\n",
    "    except Exception as e:\n",
    "        print(e)\n",
    "        \n",
    "total_episodes_seen"
   ]
  },
  {
   "cell_type": "code",
   "execution_count": 21,
   "metadata": {},
   "outputs": [
    {
     "name": "stdout",
     "output_type": "stream",
     "text": [
      "hours wasted 4\n",
      "kino no tabi: the beautiful world - the animated series\n"
     ]
    }
   ],
   "source": [
    "save_data(\"anime_episodes_seen.json\", anime_episodes)\n",
    "total_hours_wasted_seen=(total_episodes_seen*AVERAGE_ANIME_EPISODE_MINUTES)//60\n",
    "print(\"hours wasted\",total_hours_wasted_seen)\n",
    "\n",
    "tv_anime_list=[x.strip().lower() for x in anime_episodes]\n",
    "tv_anime_list=sorted(tv_anime_list)\n",
    "print(*tv_anime_list,sep=', ')"
   ]
  },
  {
   "cell_type": "markdown",
   "metadata": {},
   "source": [
    "# Games\n",
    "Using how long to beat website for scraping to extract main story duration in hours"
   ]
  },
  {
   "cell_type": "code",
   "execution_count": 22,
   "metadata": {},
   "outputs": [],
   "source": [
    "all_games_raw=\"\"\" all games here \"\"\""
   ]
  },
  {
   "cell_type": "code",
   "execution_count": 23,
   "metadata": {},
   "outputs": [],
   "source": [
    "all_games = all_games_raw.split(',')\n",
    "all_games = [x.strip().replace('\\n',\"\") for x in all_games]\n",
    "games_played=[x for x in all_games if len(x)>0]\n"
   ]
  },
  {
   "cell_type": "code",
   "execution_count": 24,
   "metadata": {},
   "outputs": [
    {
     "name": "stdout",
     "output_type": "stream",
     "text": [
      "<Response [200]>\n",
      "('Prison Architect', 15)\n"
     ]
    }
   ],
   "source": [
    "HLTB_URL = 'https://howlongtobeat.com/search_results?page=1'\n",
    "\n",
    "headers={\n",
    "    'content-type': 'application/x-www-form-urlencoded',\n",
    "    'user-agent': 'Mozilla/5.0 (Windows NT 10.0; Win64; x64) AppleWebKit/537.36 (KHTML, like Gecko) Chrome/69.0.3497.100 Safari/537.36'\n",
    "}\n",
    "\n",
    "def get_page(title):\n",
    "    data={\n",
    "        'queryString':title,\n",
    "        't':'games',\n",
    "        'sorthead':'popular',\n",
    "    }\n",
    "    return requests.post(HLTB_URL,data=data,headers=headers)\n",
    "\n",
    "print(get_page('prison'))\n",
    "\n",
    "def get_game_hours(title):\n",
    "    try:\n",
    "        soup=bs(get_page(title).content)\n",
    "    except Exception as e:\n",
    "        print(title,'error html call',e)\n",
    "    try:\n",
    "        list_div = soup.findAll(\"div\", class_=\"search_list_details\")[0]\n",
    "        # print(list_div)\n",
    "        game_title = list_div.find('a').get_text()\n",
    "        # print(game_title)\n",
    "        main_story_hours = list_div.findAll(\"div\", class_=\"search_list_tidbit\")[1].get_text()\n",
    "        number_hours=[x for x in main_story_hours if x.isdigit()]\n",
    "        number_hours=int(\"\".join(number_hours))\n",
    "        return (game_title,number_hours)\n",
    "    except Exception as e:\n",
    "        print(f'error with finding soup {title}')\n",
    "        \n",
    "    # print(list_div)\n",
    "    # print(number_hours)\n",
    "    return (None,None)\n",
    "\n",
    "print(get_game_hours('prison'))\n"
   ]
  },
  {
   "cell_type": "code",
   "execution_count": 25,
   "metadata": {},
   "outputs": [
    {
     "name": "stdout",
     "output_type": "stream",
     "text": [
      "error with finding soup all games here\n"
     ]
    },
    {
     "data": {
      "text/plain": [
       "{}"
      ]
     },
     "execution_count": 25,
     "metadata": {},
     "output_type": "execute_result"
    }
   ],
   "source": [
    "game_episodes={}\n",
    "for index,game_name in enumerate(games_played):\n",
    "    # if(index == 5):\n",
    "    #     break\n",
    "    try:\n",
    "        name,hours=get_game_hours(game_name)\n",
    "        if name is None : \n",
    "            continue\n",
    "        if name in game_episodes:\n",
    "            raise Exception(f\"Played game {name} already exists in dictionary\")\n",
    "        game_episodes[name.lower()] = hours\n",
    "    except Exception as e:\n",
    "        print(game_name,e)\n",
    "        \n",
    "    time.sleep(1)\n",
    "    \n",
    "game_episodes\n",
    "    "
   ]
  },
  {
   "cell_type": "code",
   "execution_count": 26,
   "metadata": {},
   "outputs": [
    {
     "data": {
      "text/plain": [
       "0"
      ]
     },
     "execution_count": 26,
     "metadata": {},
     "output_type": "execute_result"
    }
   ],
   "source": [
    "total_hours_wasted=0\n",
    "for key,value in game_episodes.items():\n",
    "    try:\n",
    "        total_hours_wasted+=value\n",
    "    except Exception as e:\n",
    "        print(e)\n",
    "        \n",
    "save_data(\"game_hours_wasted_me.json\", game_episodes)\n",
    "total_hours_wasted"
   ]
  },
  {
   "cell_type": "code",
   "execution_count": 27,
   "metadata": {},
   "outputs": [
    {
     "name": "stdout",
     "output_type": "stream",
     "text": [
      "\n"
     ]
    }
   ],
   "source": [
    "\n",
    "games_played_list=[x.strip() for x in game_episodes]\n",
    "games_played_list=sorted(games_played_list)\n",
    "print(*games_played_list,sep=', ')"
   ]
  }
 ],
 "metadata": {
  "interpreter": {
   "hash": "77e92358824cd95e6c4bc8bbd85f8f915bed2cbffdf7b71de1dc818ae11a94c8"
  },
  "kernelspec": {
   "display_name": "Python 3.7.0 64-bit",
   "language": "python",
   "name": "python3"
  },
  "language_info": {
   "codemirror_mode": {
    "name": "ipython",
    "version": 3
   },
   "file_extension": ".py",
   "mimetype": "text/x-python",
   "name": "python",
   "nbconvert_exporter": "python",
   "pygments_lexer": "ipython3",
   "version": "3.7.0"
  },
  "orig_nbformat": 4
 },
 "nbformat": 4,
 "nbformat_minor": 2
}
